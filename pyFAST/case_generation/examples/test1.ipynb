{
 "cells": [
  {
   "cell_type": "code",
   "execution_count": 2,
   "id": "9b427bb9-7f9a-414b-9d93-4af7396afdad",
   "metadata": {},
   "outputs": [
    {
     "ename": "NameError",
     "evalue": "name '__file__' is not defined",
     "output_type": "error",
     "traceback": [
      "\u001b[31m---------------------------------------------------------------------------\u001b[39m",
      "\u001b[31mNameError\u001b[39m                                 Traceback (most recent call last)",
      "\u001b[36mCell\u001b[39m\u001b[36m \u001b[39m\u001b[32mIn[2]\u001b[39m\u001b[32m, line 11\u001b[39m\n\u001b[32m      6\u001b[39m \u001b[38;5;28;01mimport\u001b[39;00m \u001b[34;01mpyFAST\u001b[39;00m\u001b[34;01m.\u001b[39;00m\u001b[34;01minput_output\u001b[39;00m\u001b[34;01m.\u001b[39;00m\u001b[34;01mpostpro\u001b[39;00m \u001b[38;5;28;01mas\u001b[39;00m \u001b[34;01mpostpro\u001b[39;00m\n\u001b[32m      8\u001b[39m \u001b[38;5;66;03m# Get current directory so this script can be called from any location\u001b[39;00m\n\u001b[32m      9\u001b[39m \u001b[38;5;66;03m#MyDir=os.path.dirname(__file__) ## removed by Mehdy\u001b[39;00m\n\u001b[32m---> \u001b[39m\u001b[32m11\u001b[39m MyDir = os.path.abspath(os.path.dirname(\u001b[34;43m__file__\u001b[39;49m)) \u001b[38;5;66;03m# Added by Mehdy\u001b[39;00m\n",
      "\u001b[31mNameError\u001b[39m: name '__file__' is not defined"
     ]
    }
   ],
   "source": [
    "import numpy as np\n",
    "import os\n",
    "import matplotlib.pyplot as plt\n",
    "\n",
    "import pyFAST.case_generation.case_gen as case_gen\n",
    "import pyFAST.input_output.postpro as postpro\n",
    "\n",
    "# Get current directory so this script can be called from any location\n",
    "#MyDir=os.path.dirname(__file__) ## removed by Mehdy\n",
    "\n",
    "MyDir = os.path.abspath(os.path.dirname(__file__)) # Added by Mehdy"
   ]
  },
  {
   "cell_type": "code",
   "execution_count": null,
   "id": "6e2aa933-5c7d-40ab-88e5-c8db4168d946",
   "metadata": {},
   "outputs": [],
   "source": []
  },
  {
   "cell_type": "code",
   "execution_count": null,
   "id": "fbbc3cc4-f705-48c7-8447-9027ebbf57b5",
   "metadata": {},
   "outputs": [],
   "source": []
  },
  {
   "cell_type": "code",
   "execution_count": null,
   "id": "e09d704a-76d6-4606-a766-531fa23a7270",
   "metadata": {},
   "outputs": [],
   "source": []
  }
 ],
 "metadata": {
  "kernelspec": {
   "display_name": "Python 3 (ipykernel)",
   "language": "python",
   "name": "python3"
  },
  "language_info": {
   "codemirror_mode": {
    "name": "ipython",
    "version": 3
   },
   "file_extension": ".py",
   "mimetype": "text/x-python",
   "name": "python",
   "nbconvert_exporter": "python",
   "pygments_lexer": "ipython3",
   "version": "3.12.9"
  }
 },
 "nbformat": 4,
 "nbformat_minor": 5
}
